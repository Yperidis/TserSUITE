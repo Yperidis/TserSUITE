{
 "cells": [
  {
   "cell_type": "code",
   "execution_count": 1,
   "metadata": {},
   "outputs": [],
   "source": [
    "import requests\n",
    "import json"
   ]
  },
  {
   "cell_type": "code",
   "execution_count": 11,
   "metadata": {},
   "outputs": [],
   "source": [
    "x = requests.get('https://api.elsevier.com/content/search/scopus', \n",
    "                 headers={'Accept':'application/json', 'X-ELS-APIKey': 'place your API key here'},\n",
    "                params={'query':'AI AND \"smart cit*\"', 'date=':'1997-2018 ', 'start':'200', 'count':'25'})\n",
    "\n",
    "# print(x.text)"
   ]
  },
  {
   "cell_type": "code",
   "execution_count": 12,
   "metadata": {},
   "outputs": [
    {
     "data": {
      "text/plain": [
       "dict_keys(['opensearch:totalResults', 'opensearch:startIndex', 'opensearch:itemsPerPage', 'opensearch:Query', 'link', 'entry'])"
      ]
     },
     "execution_count": 12,
     "metadata": {},
     "output_type": "execute_result"
    }
   ],
   "source": [
    "x.json()['search-results'].keys()"
   ]
  },
  {
   "cell_type": "code",
   "execution_count": 13,
   "metadata": {},
   "outputs": [
    {
     "data": {
      "text/plain": [
       "'2725'"
      ]
     },
     "execution_count": 13,
     "metadata": {},
     "output_type": "execute_result"
    }
   ],
   "source": [
    "x.json()['search-results']['opensearch:totalResults']"
   ]
  },
  {
   "cell_type": "code",
   "execution_count": 14,
   "metadata": {},
   "outputs": [
    {
     "data": {
      "text/plain": [
       "'25'"
      ]
     },
     "execution_count": 14,
     "metadata": {},
     "output_type": "execute_result"
    }
   ],
   "source": [
    "x.json()['search-results']['opensearch:itemsPerPage']"
   ]
  },
  {
   "cell_type": "code",
   "execution_count": 15,
   "metadata": {},
   "outputs": [
    {
     "data": {
      "text/plain": [
       "{'@role': 'request',\n",
       " '@searchTerms': 'AI AND \"smart cit*\"',\n",
       " '@startPage': '200'}"
      ]
     },
     "execution_count": 15,
     "metadata": {},
     "output_type": "execute_result"
    }
   ],
   "source": [
    "x.json()['search-results']['opensearch:Query']"
   ]
  },
  {
   "cell_type": "code",
   "execution_count": 16,
   "metadata": {},
   "outputs": [
    {
     "data": {
      "text/plain": [
       "{'@_fa': 'true',\n",
       " 'link': [{'@_fa': 'true',\n",
       "   '@ref': 'self',\n",
       "   '@href': 'https://api.elsevier.com/content/abstract/scopus_id/85075700926'},\n",
       "  {'@_fa': 'true',\n",
       "   '@ref': 'author-affiliation',\n",
       "   '@href': 'https://api.elsevier.com/content/abstract/scopus_id/85075700926?field=author,affiliation'},\n",
       "  {'@_fa': 'true',\n",
       "   '@ref': 'scopus',\n",
       "   '@href': 'https://www.scopus.com/inward/record.uri?partnerID=HzOxMe3b&scp=85075700926&origin=inward'},\n",
       "  {'@_fa': 'true',\n",
       "   '@ref': 'scopus-citedby',\n",
       "   '@href': 'https://www.scopus.com/inward/citedby.uri?partnerID=HzOxMe3b&scp=85075700926&origin=inward'}],\n",
       " 'prism:url': 'https://api.elsevier.com/content/abstract/scopus_id/85075700926',\n",
       " 'dc:identifier': 'SCOPUS_ID:85075700926',\n",
       " 'eid': '2-s2.0-85075700926',\n",
       " 'dc:title': 'Communication in smart grids: A comprehensive review on the existing and future communication and information infrastructures',\n",
       " 'dc:creator': 'Ghorbanian M.',\n",
       " 'prism:publicationName': 'IEEE Systems Journal',\n",
       " 'prism:issn': '19328184',\n",
       " 'prism:eIssn': '19379234',\n",
       " 'prism:volume': '13',\n",
       " 'prism:issueIdentifier': '4',\n",
       " 'prism:pageRange': '4001-4014',\n",
       " 'prism:coverDate': '2019-12-01',\n",
       " 'prism:coverDisplayDate': 'December 2019',\n",
       " 'prism:doi': '10.1109/JSYST.2019.2928090',\n",
       " 'citedby-count': '1',\n",
       " 'affiliation': [{'@_fa': 'true',\n",
       "   'affilname': 'Isfahan University of Technology',\n",
       "   'affiliation-city': 'Isfahan',\n",
       "   'affiliation-country': 'Iran'}],\n",
       " 'prism:aggregationType': 'Journal',\n",
       " 'subtype': 're',\n",
       " 'subtypeDescription': 'Review',\n",
       " 'article-number': '8839117',\n",
       " 'source-id': '11300153734',\n",
       " 'openaccess': '0',\n",
       " 'openaccessFlag': False}"
      ]
     },
     "execution_count": 16,
     "metadata": {},
     "output_type": "execute_result"
    }
   ],
   "source": [
    "x.json()['search-results']['entry'][0]"
   ]
  },
  {
   "cell_type": "code",
   "execution_count": null,
   "metadata": {},
   "outputs": [],
   "source": []
  }
 ],
 "metadata": {
  "kernelspec": {
   "display_name": "Python 3",
   "language": "python",
   "name": "python3"
  },
  "language_info": {
   "codemirror_mode": {
    "name": "ipython",
    "version": 3
   },
   "file_extension": ".py",
   "mimetype": "text/x-python",
   "name": "python",
   "nbconvert_exporter": "python",
   "pygments_lexer": "ipython3",
   "version": "3.7.4"
  }
 },
 "nbformat": 4,
 "nbformat_minor": 4
}
